{
 "cells": [
  {
   "cell_type": "code",
   "execution_count": 46,
   "metadata": {},
   "outputs": [],
   "source": [
    "from selenium import webdriver\n",
    "from selenium.webdriver.common.by import By\n",
    "from selenium.webdriver.common.action_chains import ActionChains\n",
    "from selenium.webdriver.common.keys import Keys\n",
    "import time\n",
    "\n",
    "# Replace these with your credentials and file URL\n",
    "FIGMA_EMAIL = \"saifhussainansari6@gmail.com\"\n",
    "FIGMA_PASSWORD = \"pQG&UEv;95ZbiG6\"\n",
    "FIGMA_FILE_URL = \"https://www.figma.com/file/IFZdbkck0VDYqYeS6fRbNy\"\n",
    "\n",
    "# Initialize WebDriver\n",
    "driver = webdriver.Chrome()  # Replace with your preferred WebDriver\n",
    "driver.maximize_window()\n",
    "\n",
    "\n",
    "# Step 1: Open Figma and Log In\n",
    "driver.get(\"https://www.figma.com/login\")\n",
    "time.sleep(5)\n",
    "\n",
    "# Enter email\n",
    "email_field = driver.find_element(By.ID, \"email\")\n",
    "email_field.send_keys(FIGMA_EMAIL)\n",
    "\n",
    "# Enter password\n",
    "password_field = driver.find_element(By.ID, \"current-password\")\n",
    "password_field.send_keys(FIGMA_PASSWORD)\n",
    "password_field.send_keys(Keys.RETURN)\n",
    "time.sleep(10)  # Wait for login to complete\n",
    "\n",
    "# Step 2: Open Figma File\n",
    "driver.get(FIGMA_FILE_URL)\n",
    "time.sleep(10)  # Wait for the file to load\n",
    "\n",
    "# Step 3: Open the Locofy.ai Plugin\n",
    "# Simulate pressing `Alt` + `/` to open the plugin search\n",
    "ActionChains(driver).key_down(Keys.COMMAND).send_keys(\"/\").key_up(Keys.COMMAND).perform()\n",
    "time.sleep(2)\n",
    "\n",
    "# Search for Locofy.ai\n",
    "search_field = driver.find_element(By.XPATH, \"//input[@placeholder='Search']\")\n",
    "search_field.send_keys(\"Locofy.ai\")\n",
    "time.sleep(2)\n",
    "\n"
   ]
  },
  {
   "cell_type": "code",
   "execution_count": 95,
   "metadata": {},
   "outputs": [],
   "source": [
    "iframe = driver.find_element(By.ID, 'plugin-iframe-in-modal')  # Use ID or another suitable locator\n",
    "driver.switch_to.frame(iframe)"
   ]
  },
  {
   "cell_type": "code",
   "execution_count": 108,
   "metadata": {},
   "outputs": [],
   "source": [
    "from selenium.webdriver.common.by import By\n",
    "from selenium.webdriver.common.action_chains import ActionChains\n",
    "from selenium.webdriver.support.ui import WebDriverWait\n",
    "from selenium.webdriver.support import expected_conditions as EC\n",
    "\n",
    "# Wait for the outer iframe to be visible\n",
    "WebDriverWait(driver, 10).until(\n",
    "    EC.visibility_of_element_located((By.ID, \"plugin-iframe-in-modal\"))\n",
    ")\n",
    "\n",
    "# Switch to the outer iframe\n",
    "outer_iframe = driver.find_element(By.ID, \"plugin-iframe-in-modal\")\n",
    "driver.switch_to.frame(outer_iframe)\n"
   ]
  },
  {
   "cell_type": "code",
   "execution_count": 110,
   "metadata": {},
   "outputs": [
    {
     "data": {
      "text/plain": [
       "<selenium.webdriver.remote.webelement.WebElement (session=\"1ec438f1930a132979a73eaf020d43d5\", element=\"f.C0ABA5FE84A17D960FC30834A4AF985D.d.416CC9CF3F2802FE1AEBD78B805602A9.e.4579\")>"
      ]
     },
     "execution_count": 110,
     "metadata": {},
     "output_type": "execute_result"
    }
   ],
   "source": [
    "\n",
    "# Wait for the inner iframe to be visible\n",
    "WebDriverWait(driver, 10).until(\n",
    "    EC.visibility_of_element_located((By.NAME, \"Network Plugin Iframe\"))\n",
    ")\n"
   ]
  },
  {
   "cell_type": "code",
   "execution_count": 112,
   "metadata": {},
   "outputs": [],
   "source": [
    "f1 = driver.find_element(By.NAME, \"Network Plugin Iframe\")\n",
    "driver.switch_to.frame(f1)\n",
    "\n",
    "\n"
   ]
  },
  {
   "cell_type": "code",
   "execution_count": 113,
   "metadata": {},
   "outputs": [],
   "source": [
    "# Switch to the inner iframe\n",
    "inner0_iframe = driver.find_element(By.ID, \"plugin-iframe\")\n",
    "driver.switch_to.frame(inner0_iframe)\n",
    "\n"
   ]
  },
  {
   "cell_type": "code",
   "execution_count": 144,
   "metadata": {},
   "outputs": [],
   "source": [
    "element = driver.find_element(By.XPATH, \"//*[contains(text(), 'Connect Account')]\")\n",
    "driver.execute_script('document.querySelector(\"._btn_1telm_80\").click()')\n",
    "\n",
    "\n",
    "# # Wait for 2 seconds while hovering\n",
    "# time.sleep(2)\n",
    "\n",
    "\n",
    "# After you're done, switch back to the main page\n",
    "# driver.switch_to.default_content()"
   ]
  },
  {
   "cell_type": "markdown",
   "metadata": {},
   "source": []
  }
 ],
 "metadata": {
  "kernelspec": {
   "display_name": "venv",
   "language": "python",
   "name": "python3"
  },
  "language_info": {
   "codemirror_mode": {
    "name": "ipython",
    "version": 3
   },
   "file_extension": ".py",
   "mimetype": "text/x-python",
   "name": "python",
   "nbconvert_exporter": "python",
   "pygments_lexer": "ipython3",
   "version": "3.13.1"
  }
 },
 "nbformat": 4,
 "nbformat_minor": 2
}

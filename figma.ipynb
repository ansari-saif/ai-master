{
 "cells": [
  {
   "cell_type": "code",
   "execution_count": 33,
   "metadata": {},
   "outputs": [],
   "source": [
    "import os\n",
    "from selenium import webdriver\n",
    "from selenium.webdriver.common.by import By\n",
    "from selenium.webdriver.common.action_chains import ActionChains\n",
    "from selenium.webdriver.common.keys import Keys\n",
    "import time\n",
    "from selenium.webdriver.common.by import By\n",
    "from selenium.webdriver.common.action_chains import ActionChains\n",
    "from dotenv import load_dotenv\n",
    "\n",
    "load_dotenv()\n",
    "\n",
    "driver = webdriver.Chrome()\n",
    "driver.maximize_window()\n",
    "\n",
    "driver.get(\"https://www.figma.com/login\")\n",
    "time.sleep(5)\n",
    "\n",
    "LOCOFY_EMAIL = os.getenv('LOCOFY_EMAIL')\n",
    "LOCOFY_PASSWORD = os.getenv('LOCOFY_PASSWORD')\n",
    "\n",
    "\n",
    "FIGMA_EMAIL = os.getenv('FIGMA_EMAIL')\n",
    "FIGMA_PASSWORD = os.getenv('FIGMA_PASSWORD')\n",
    "\n",
    "FIGMA_FILE_URL = os.getenv('FIGMA_FILE_URL')\n",
    "\n",
    "# Enter email\n",
    "email_field = driver.find_element(By.ID, \"email\")\n",
    "email_field.send_keys(FIGMA_EMAIL)\n",
    "\n",
    "# Enter password\n",
    "password_field = driver.find_element(By.ID, \"current-password\")\n",
    "password_field.send_keys(FIGMA_PASSWORD)\n",
    "password_field.send_keys(Keys.RETURN)\n",
    "time.sleep(10)  # Wait for login to complete\n",
    "\n",
    "# Step 2: Open Figma File\n",
    "driver.get(FIGMA_FILE_URL)\n",
    "time.sleep(10)  # Wait for the file to load\n",
    "\n",
    "# Step 3: Open the Locofy.ai Plugin\n",
    "# Simulate pressing `Alt` + `/` to open the plugin search\n",
    "ActionChains(driver).key_down(Keys.COMMAND).send_keys(\"/\").key_up(Keys.COMMAND).perform()\n",
    "time.sleep(2)\n",
    "\n",
    "# Search for Locofy.ai\n",
    "search_field = driver.find_element(By.XPATH, \"//input[@placeholder='Search']\")\n",
    "search_field.send_keys(\"Locofy.ai\")\n",
    "time.sleep(2)\n",
    "\n",
    "# press enter\n",
    "driver.execute_script('document.querySelector(\"#react-page > div > div > div > div.fullscreen_view--flexContainer--SBt2E > div:nth-child(1) > div > div > div.utils-module--contents--iP8Hi > div > div > div > div > div > div > div > div.cx_pl8--gxoGN.cx_pr8--CsQT3.cx_pb8--v4HS8 > div > div > fieldset > button:nth-child(3) > div > div.tabs--tabButton--QIg8n > label > i18n-text\").click()')\n",
    "time.sleep(2)\n",
    "\n",
    "# Search for Locofy.ai\n",
    "plugin_option = driver.find_element(By.XPATH, \"//div[text()='Locofy Lightning - Figma to Code in a flash']\")\n",
    "plugin_option.click()\n",
    "time.sleep(5)  # Wait for the plugin to load\n",
    "\n",
    "# click on run button\n",
    "driver.execute_script('document.querySelector(\"#react-page > div > div > div > div.fullscreen_view--flexContainer--SBt2E > div:nth-child(1) > div > div > div.utils-module--contents--iP8Hi > div > div > div > div > div > div.cx_flex--2hUIC.cx_flexRow--QnXvr.cx_gap8--RCB1-.cx_justifyBetween--ihJXN.cx_pt8--kmTV-.cx_pb8--v4HS8.cx_bSolid--6-DiT.cx_colorBorder--W0gXm.cx_bt1--nb1cc.cx_itemsCenter--4Ybl3.cx_colorBg--XYMUF > div > button.button-reset-module--buttonReset--Njg3k.button-module--button--xiqeQ.utilities--bodyMedium--7-YGK.button-module--regularSize--Mmmf7.button-module--primary--pCfBo.button-module--solidStyle--mSysv\").click()')\n",
    "time.sleep(20)\n",
    "\n",
    "iframe = driver.find_element(By.ID, 'plugin-iframe-in-modal')  \n",
    "driver.switch_to.frame(iframe)\n",
    "\n",
    "f1 = driver.find_element(By.NAME, \"Network Plugin Iframe\")\n",
    "driver.switch_to.frame(f1)\n",
    "\n",
    "# Switch to the inner iframe\n",
    "inner0_iframe = driver.find_element(By.ID, \"plugin-iframe\")\n",
    "driver.switch_to.frame(inner0_iframe)\n",
    "driver.execute_script('document.querySelector(\"._btn_1telm_80\").click()')\n",
    "time.sleep(1)\n",
    "\n",
    "# Switch to the new tab\n",
    "driver.switch_to.window(driver.window_handles[1])\n",
    "time.sleep(5)\n",
    "\n",
    "# Retrieve Locofy credentials from environment variables\n",
    "# Login to locofy\n",
    "\n",
    "# Locate the email and password fields within the iframe\n",
    "email_field = driver.find_element(By.XPATH, '//*[@id=\"app\"]/div/div/div/div/div/div[2]/div[1]/input')\n",
    "password_field = driver.find_element(By.XPATH, '//*[@id=\"app\"]/div/div/div/div/div/div[2]/div[2]/input')\n",
    "\n",
    "# Enter the credentials\n",
    "email_field.send_keys(LOCOFY_EMAIL)\n",
    "password_field.send_keys(LOCOFY_PASSWORD)\n",
    "\n",
    "# Click the login button\n",
    "login_button = driver.find_element(By.XPATH, '//*[@id=\"app\"]/div/div/div/div/div/div[2]/button')\n",
    "login_button.click()\n",
    "\n",
    "# use google login instead\n",
    "# Wait for the login to complete\n",
    "time.sleep(10)\n"
   ]
  },
  {
   "cell_type": "code",
   "execution_count": 34,
   "metadata": {},
   "outputs": [],
   "source": [
    "\n",
    "driver.switch_to.window(driver.window_handles[0])\n",
    "# gen code button\n",
    "iframe = driver.find_element(By.ID, 'plugin-iframe-in-modal')\n",
    "driver.switch_to.frame(iframe)\n",
    "\n",
    "f1 = driver.find_element(By.NAME, \"Network Plugin Iframe\")\n",
    "driver.switch_to.frame(f1)\n",
    "time.sleep(5)\n"
   ]
  },
  {
   "cell_type": "code",
   "execution_count": 35,
   "metadata": {},
   "outputs": [],
   "source": [
    "# Switch to the inner iframe\n",
    "inner0_iframe = driver.find_element(By.ID, \"plugin-iframe\")\n",
    "time.sleep(2)\n",
    "driver.switch_to.frame(inner0_iframe)\n",
    "time.sleep(2)\n",
    "driver.execute_script('document.querySelector(\"._shinyBtn_1lwba_6\").click()')\n",
    "time.sleep(1)\n",
    "\n",
    "\n"
   ]
  },
  {
   "cell_type": "code",
   "execution_count": 36,
   "metadata": {},
   "outputs": [],
   "source": [
    "try:\n",
    "    driver.execute_script('document.querySelectorAll(\".font-medium\")[1].click()')\n",
    "    time.sleep(1)\n",
    "except Exception as e:\n",
    "    print(e)"
   ]
  },
  {
   "cell_type": "code",
   "execution_count": 37,
   "metadata": {},
   "outputs": [],
   "source": [
    "\n",
    "# select frame 1\n",
    "driver.execute_script('document.querySelector(\"._frameImage_1ip34_91\").click()')\n",
    "time.sleep(2)\n",
    "# click to convert 1 frame _shinyBtn_1lwba_6\n",
    "driver.execute_script('document.querySelector(\"._shinyBtn_1lwba_6\").click()')\n",
    "time.sleep(1)\n"
   ]
  },
  {
   "cell_type": "code",
   "execution_count": 39,
   "metadata": {},
   "outputs": [],
   "source": [
    "driver.find_element(By.XPATH, '//*[@id=\"root-preview\"]/div[1]/div[3]/div[5]/button').click()"
   ]
  },
  {
   "cell_type": "code",
   "execution_count": 40,
   "metadata": {},
   "outputs": [],
   "source": [
    "driver.find_element(By.XPATH, '//*[@id=\"portal\"]/div[6]/div[2]/div/div/div[2]/div[1]/span/span/div/div').click()"
   ]
  },
  {
   "cell_type": "code",
   "execution_count": 41,
   "metadata": {},
   "outputs": [],
   "source": [
    "driver.find_element(By.XPATH, '//*[@id=\"portal\"]/div[6]/div[2]/div/div[2]/div/div[2]/div/div[1]').click()"
   ]
  },
  {
   "cell_type": "code",
   "execution_count": 42,
   "metadata": {},
   "outputs": [],
   "source": [
    "driver.find_element(By.XPATH, '//*[@id=\"portal\"]/div[6]/div[2]/div/div[3]/div/div/span/span/button').click()\n",
    "time.sleep(5)"
   ]
  },
  {
   "cell_type": "code",
   "execution_count": 43,
   "metadata": {},
   "outputs": [],
   "source": [
    "driver.find_element(By.XPATH, '//*[@id=\"portal\"]/div[6]/div[2]/div[2]/div[2]/button').click()"
   ]
  },
  {
   "cell_type": "code",
   "execution_count": 47,
   "metadata": {},
   "outputs": [],
   "source": [
    "driver.switch_to.window(driver.window_handles[2])"
   ]
  },
  {
   "cell_type": "code",
   "execution_count": 48,
   "metadata": {},
   "outputs": [],
   "source": [
    "driver.find_element(By.XPATH, '//*[@id=\"app\"]/div[2]/div/div[3]/button[1]').click()"
   ]
  },
  {
   "cell_type": "code",
   "execution_count": 49,
   "metadata": {},
   "outputs": [],
   "source": [
    "try:\n",
    "    driver.find_element(By.XPATH, '//*[@id=\"portal\"]/div[20]/div/div[2]/div/div/img[3]').click()\n",
    "    time.sleep(1)\n",
    "except Exception as e:\n",
    "    print(e)\n",
    "\n"
   ]
  },
  {
   "cell_type": "code",
   "execution_count": 50,
   "metadata": {},
   "outputs": [],
   "source": [
    "driver.find_element(By.XPATH, '//*[@id=\"header\"]/div[3]/div/div/button').click()"
   ]
  },
  {
   "cell_type": "code",
   "execution_count": 51,
   "metadata": {},
   "outputs": [],
   "source": [
    "driver.find_element(By.XPATH, '//*[@id=\"portal\"]/div[21]/div/div[3]/div[3]').click()"
   ]
  },
  {
   "cell_type": "code",
   "execution_count": 52,
   "metadata": {},
   "outputs": [],
   "source": [
    "driver.find_element(By.XPATH, '//*[@id=\"portal\"]/div[22]/div/div[2]/div/div/div[2]/div[3]/div[2]/div/div/div/button').click()"
   ]
  }
 ],
 "metadata": {
  "kernelspec": {
   "display_name": "venv",
   "language": "python",
   "name": "python3"
  },
  "language_info": {
   "codemirror_mode": {
    "name": "ipython",
    "version": 3
   },
   "file_extension": ".py",
   "mimetype": "text/x-python",
   "name": "python",
   "nbconvert_exporter": "python",
   "pygments_lexer": "ipython3",
   "version": "3.13.1"
  }
 },
 "nbformat": 4,
 "nbformat_minor": 2
}
